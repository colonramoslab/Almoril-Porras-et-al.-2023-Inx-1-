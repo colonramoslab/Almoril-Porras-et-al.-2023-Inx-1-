{
 "cells": [
  {
   "cell_type": "code",
   "execution_count": 1,
   "id": "1476e119-46cf-49b1-a3fd-5cd6db3e1439",
   "metadata": {
    "tags": []
   },
   "outputs": [],
   "source": [
    "import pandas as pd\n",
    "import numpy as np\n",
    "#Conversion estimated to be y=100x - 725 where x is temp in C, and y is the corresponding pixel\n",
    "#24C = 1675px, 16C = 875px, 20C = 1275px, 18C = 1075px\n",
    "def calculate_average_time(filename, target_coordinate, Ttx):\n",
    "    # Read the CSV file\n",
    "    df = pd.read_csv(filename,  header = None)\n",
    "\n",
    "    # Initialize variables\n",
    "    total_time = 0\n",
    "    count = 0\n",
    "    total_tracks = len(df.columns)\n",
    "    vals = []\n",
    "    # Iterate over each track (column)\n",
    "    for column in df:\n",
    "        # Find the first index where the coordinate is greater than or equal to the target\n",
    "        if Ttx == 'Negative':\n",
    "            index = df[df[column] <= target_coordinate].index\n",
    "            \n",
    "        else: #Assume Positive by default\n",
    "             index = df[df[column] >= target_coordinate].index\n",
    "                \n",
    "        if len(index) > 0:\n",
    "            # If the track reaches or surpasses the target, add the time to the total\n",
    "            # (assuming each row represents 0.5s)\n",
    "            total_time += index[0] * 0.5\n",
    "            count += 1\n",
    "            vals.append(index[0] * 0.5)\n",
    "    # Calculate the average time\n",
    "    average_time = total_time / count if count > 0 else np.nan\n",
    "\n",
    "    return average_time, count, total_tracks, vals\n"
   ]
  },
  {
   "cell_type": "markdown",
   "id": "edd4f5b0-da3d-465c-b14e-69a85eeaae0a",
   "metadata": {},
   "source": [
    "# 240331 Runs"
   ]
  },
  {
   "cell_type": "code",
   "execution_count": 6,
   "id": "7ab22e01-14c8-4b44-9c33-41be906389a7",
   "metadata": {
    "tags": []
   },
   "outputs": [
    {
     "name": "stdout",
     "output_type": "stream",
     "text": [
      "10\n",
      "8\n",
      "[835.5, 2344.0, 505.0, 524.5, 1265.0, 1530.5, 1867.0, 1490.0]\n"
     ]
    }
   ],
   "source": [
    "fldr = 'C:/Users/dgmdi/OneDrive - Yale University/Documents/Inx1 Paper/inx-1_alleles_Ttx/'\n",
    "expt = '240331_Runs/Coords/240331_N2_Tc15_16_24_XCoords_FiltTracks.csv'\n",
    "fullname = fldr + expt\n",
    "avgtime_N2, count, total_tracks, vals =  calculate_average_time(fullname, 1075, 'Negative')\n",
    "avgtime_N2\n",
    "vals\n",
    "print(total_tracks)\n",
    "print(count)\n",
    "print(vals)"
   ]
  },
  {
   "cell_type": "code",
   "execution_count": 7,
   "id": "1daa6bf0-1103-448f-8a7d-9f84dbe7d655",
   "metadata": {
    "tags": []
   },
   "outputs": [
    {
     "name": "stdout",
     "output_type": "stream",
     "text": [
      "14\n",
      "6\n",
      "[1218.0, 2055.5, 1619.5, 1715.5, 1851.0, 2976.0]\n"
     ]
    }
   ],
   "source": [
    "fldr = 'C:/Users/dgmdi/OneDrive - Yale University/Documents/Inx1 Paper/inx-1_alleles_Ttx/'\n",
    "expt2 = '240331_Runs/Coords/240331_ola375_Tc15_rep1_16_24_XCoords_FiltTracks.csv'\n",
    "fullname2 = fldr + expt2\n",
    "avgtime_ola375_r1, count, total_tracks, vals =  calculate_average_time(fullname2, 1075, 'Negative')\n",
    "avgtime_ola375_r1\n",
    "vals\n",
    "print(total_tracks)\n",
    "print(count)\n",
    "print(vals)"
   ]
  },
  {
   "cell_type": "code",
   "execution_count": 5,
   "id": "34241cef-1daa-4c95-9136-2e3c3b8d526c",
   "metadata": {
    "tags": []
   },
   "outputs": [
    {
     "name": "stdout",
     "output_type": "stream",
     "text": [
      "12\n",
      "9\n",
      "[2843.0, 964.5, 840.0, 3068.5, 1071.0, 1261.5, 868.5, 2492.0, 2743.5]\n"
     ]
    }
   ],
   "source": [
    "fldr = 'C:/Users/dgmdi/OneDrive - Yale University/Documents/Inx1 Paper/inx-1_alleles_Ttx/'\n",
    "expt3 = '240331_Runs/Coords/240331_ola375_Tc15_rep2_16_24_XCoords_FiltTracks.csv'\n",
    "fullname3 = fldr + expt3\n",
    "avgtime_ola375_r2, count, total_tracks, vals =  calculate_average_time(fullname3, 1075, 'Negative')\n",
    "avgtime_ola375_r2\n",
    "vals\n",
    "print(total_tracks)\n",
    "print(count)\n",
    "print(vals)"
   ]
  },
  {
   "cell_type": "markdown",
   "id": "08e169e1-0ddd-4fdc-8845-e09b0c1934d2",
   "metadata": {},
   "source": [
    "# 240325 Runs"
   ]
  },
  {
   "cell_type": "code",
   "execution_count": 8,
   "id": "161ba255-e1c8-4aff-978b-f4adc806a53c",
   "metadata": {
    "tags": []
   },
   "outputs": [
    {
     "data": {
      "text/plain": [
       "[1335.0, 935.5, 1320.5, 620.5, 1649.0, 872.0, 1445.0, 2845.5, 2704.5, 3321.0]"
      ]
     },
     "execution_count": 8,
     "metadata": {},
     "output_type": "execute_result"
    }
   ],
   "source": [
    "fldr = 'C:/Users/dgmdi/OneDrive - Yale University/Documents/Inx1 Paper/inx-1_alleles_Ttx/'\n",
    "expt = '240325_Runs/Coords/240325_N2_Tc15_16_24_XCoords_FiltTracks.csv'\n",
    "fullname = fldr + expt\n",
    "avgtime_N2_r2, count, total_tracks, vals =  calculate_average_time(fullname, 1075, 'Negative')\n",
    "avgtime_N2_r2\n",
    "vals"
   ]
  },
  {
   "cell_type": "code",
   "execution_count": 9,
   "id": "a9166b5c-458a-42a1-ad36-2fe9dbe899ed",
   "metadata": {
    "tags": []
   },
   "outputs": [
    {
     "data": {
      "text/plain": [
       "[1407.5, 2778.0, 1898.0, 1930.5, 1687.5, 2883.0, 3278.0]"
      ]
     },
     "execution_count": 9,
     "metadata": {},
     "output_type": "execute_result"
    }
   ],
   "source": [
    "fldr = 'C:/Users/dgmdi/OneDrive - Yale University/Documents/Inx1 Paper/inx-1_alleles_Ttx/'\n",
    "expt2 = '240325_Runs/Coords/240325_ola375_rep1_Tc15_16_24_XCoords_FiltTracks.csv'\n",
    "fullname2 = fldr + expt2\n",
    "avgtime_ola375_r3, count, total_tracks, vals =  calculate_average_time(fullname2, 1075, 'Negative')\n",
    "avgtime_ola375_r3\n",
    "vals"
   ]
  },
  {
   "cell_type": "code",
   "execution_count": 10,
   "id": "d24803e5-1daa-43b2-878e-89a919b46315",
   "metadata": {
    "tags": []
   },
   "outputs": [
    {
     "data": {
      "text/plain": [
       "[1509.5, 1528.5]"
      ]
     },
     "execution_count": 10,
     "metadata": {},
     "output_type": "execute_result"
    }
   ],
   "source": [
    "fldr = 'C:/Users/dgmdi/OneDrive - Yale University/Documents/Inx1 Paper/inx-1_alleles_Ttx/'\n",
    "expt3 = '240325_Runs/Coords/240325_ola375_rep2_Tc15_16_24_XCoords_FiltTracks.csv'\n",
    "fullname3 = fldr + expt3\n",
    "avgtime_ola375_r4, count, total_tracks, vals =  calculate_average_time(fullname3, 1075, 'Negative')\n",
    "avgtime_ola375_r4\n",
    "vals"
   ]
  },
  {
   "cell_type": "code",
   "execution_count": null,
   "id": "49d4038e-6701-4665-baa5-f1c6fa6e7c85",
   "metadata": {},
   "outputs": [],
   "source": []
  },
  {
   "cell_type": "code",
   "execution_count": null,
   "id": "974cfd73-af90-4c46-b36b-1121fe413fef",
   "metadata": {},
   "outputs": [],
   "source": []
  },
  {
   "cell_type": "code",
   "execution_count": 100,
   "id": "d2293675-da47-41ac-baf5-047aa54ffbc2",
   "metadata": {
    "tags": []
   },
   "outputs": [
    {
     "name": "stdout",
     "output_type": "stream",
     "text": [
      "10\n",
      "10\n",
      "772.0\n",
      "[640.0, 368.0, 445.0, 466.5, 617.5, 843.5, 1245.5, 976.0, 834.0, 1284.0]\n"
     ]
    }
   ],
   "source": [
    "fldr = 'C:/Users/dgmdi/OneDrive - Yale University/Documents/Inx1 Paper/Migration Efficiency Analysis/240531_240509_240508_Runs_Tc15/Coords/'\n",
    "expt = '240508_N2_Tc15_16_24_XCoords_FiltTracks.csv'\n",
    "fullname08 = fldr + expt\n",
    "avgtime_N2_r3, count, total_tracks, vals33 =  calculate_average_time(fullname08, 1075, 'Negative')\n",
    "avgtime_N2_r3\n",
    "vals33\n",
    "print(total_tracks)\n",
    "print(count)\n",
    "print(avgtime_N2_r3)\n",
    "print(vals3)"
   ]
  },
  {
   "cell_type": "code",
   "execution_count": 92,
   "id": "9a8bc02a-e2b4-4565-a85c-ebaae9075022",
   "metadata": {
    "tags": []
   },
   "outputs": [
    {
     "name": "stdout",
     "output_type": "stream",
     "text": [
      "12\n",
      "5\n",
      "1285.5\n",
      "[857.5, 1037.0, 1399.5, 1228.5, 1905.0]\n"
     ]
    }
   ],
   "source": [
    "fldr = 'C:/Users/dgmdi/OneDrive - Yale University/Documents/Inx1 Paper/Migration Efficiency Analysis/240531_240509_240508_Runs_Tc15/Coords/'\n",
    "expt = '240508_ola375_Tc15_16_24_XCoords_FiltTracks.csv'\n",
    "fullname = fldr + expt\n",
    "avgtime_ola375_r5, count, total_tracks, vals5 =  calculate_average_time(fullname, 1075, 'Negative')\n",
    "avgtime_ola375_r5\n",
    "vals5\n",
    "print(total_tracks)\n",
    "print(count)\n",
    "print(avgtime_ola375_r5)\n",
    "print(vals5)"
   ]
  },
  {
   "cell_type": "code",
   "execution_count": 94,
   "id": "68781f00-5cd8-4c78-a260-9ae6ea6b3955",
   "metadata": {
    "tags": []
   },
   "outputs": [
    {
     "name": "stdout",
     "output_type": "stream",
     "text": [
      "10\n",
      "10\n",
      "1000.75\n",
      "[137.0, 922.5, 777.5, 455.5, 473.0, 681.0, 704.5, 744.0, 1791.5, 3321.0]\n"
     ]
    }
   ],
   "source": [
    "fldr = 'C:/Users/dgmdi/OneDrive - Yale University/Documents/Inx1 Paper/Migration Efficiency Analysis/240531_240509_240508_Runs_Tc15/Coords/'\n",
    "expt2 = '240509_N2_Tc15_16_24_XCoords_FiltTracks.csv'\n",
    "fullname4 = fldr + expt2\n",
    "avgtime_N2_r4, count, total_tracks, vals4 =  calculate_average_time(fullname4, 1075, 'Negative')\n",
    "avgtime_N2_r4\n",
    "vals4\n",
    "print(total_tracks)\n",
    "print(count)\n",
    "print(avgtime_N2_r4)\n",
    "print(vals4)"
   ]
  },
  {
   "cell_type": "code",
   "execution_count": 95,
   "id": "36aa883b-4e89-4562-962d-30f203664311",
   "metadata": {
    "tags": []
   },
   "outputs": [
    {
     "name": "stdout",
     "output_type": "stream",
     "text": [
      "13\n",
      "7\n",
      "1508.5\n",
      "[2243.0, 883.0, 1017.5, 863.0, 1055.5, 1634.0, 2863.5]\n"
     ]
    }
   ],
   "source": [
    "fldr = 'C:/Users/dgmdi/OneDrive - Yale University/Documents/Inx1 Paper/Migration Efficiency Analysis/240531_240509_240508_Runs_Tc15/Coords/'\n",
    "expt2 = '240509_ola375_Tc15_16_24_XCoords_FiltTracks.csv'\n",
    "fullname2 = fldr + expt2\n",
    "avgtime_ola375_r6, count, total_tracks, vals6 =  calculate_average_time(fullname2, 1075, 'Negative')\n",
    "avgtime_ola375_r6\n",
    "vals6\n",
    "print(total_tracks)\n",
    "print(count)\n",
    "print(avgtime_ola375_r6)\n",
    "print(vals6)"
   ]
  },
  {
   "cell_type": "code",
   "execution_count": 97,
   "id": "d79a45e7-90a1-400b-9a64-3ab6921d317d",
   "metadata": {
    "tags": []
   },
   "outputs": [
    {
     "name": "stdout",
     "output_type": "stream",
     "text": [
      "13\n",
      "12\n",
      "740.4583333333334\n",
      "[455.5, 428.5, 514.0, 492.5, 512.0, 443.0, 275.0, 511.0, 476.5, 1137.0, 1679.5, 1961.0]\n"
     ]
    }
   ],
   "source": [
    "fldr = 'C:/Users/dgmdi/OneDrive - Yale University/Documents/Inx1 Paper/Migration Efficiency Analysis/240531_240509_240508_Runs_Tc15/Coords/'\n",
    "expt3 = '240531_N2_Tc15_16_24_XCoords_FiltTracks.csv'\n",
    "fullname3 = fldr + expt3\n",
    "avgtime_N2_r5, count, total_tracks, vals5 =  calculate_average_time(fullname3, 1075, 'Negative')\n",
    "avgtime_N2_r5\n",
    "vals\n",
    "print(total_tracks)\n",
    "print(count)\n",
    "print(avgtime_N2_r5)\n",
    "print(vals5)"
   ]
  },
  {
   "cell_type": "code",
   "execution_count": 98,
   "id": "f6d3dc3b-2f55-4018-8c7e-cc9bcbc53622",
   "metadata": {
    "tags": []
   },
   "outputs": [
    {
     "name": "stdout",
     "output_type": "stream",
     "text": [
      "10\n",
      "9\n",
      "1552.8333333333333\n",
      "[890.0, 898.5, 1068.0, 1418.0, 2839.0, 1247.5, 1269.0, 2034.0, 2311.5]\n"
     ]
    }
   ],
   "source": [
    "fldr = 'C:/Users/dgmdi/OneDrive - Yale University/Documents/Inx1 Paper/Migration Efficiency Analysis/240531_240509_240508_Runs_Tc15/Coords/'\n",
    "expt3 = '240531_ola375_Tc15_16_24_XCoords_FiltTracks.csv'\n",
    "fullname3 = fldr + expt3\n",
    "avgtime_ola375_r7, count, total_tracks, vals7 =  calculate_average_time(fullname3, 1075, 'Negative')\n",
    "avgtime_ola375_r7\n",
    "vals7\n",
    "print(total_tracks)\n",
    "print(count)\n",
    "print(avgtime_ola375_r7)\n",
    "print(vals7)"
   ]
  }
 ],
 "metadata": {
  "kernelspec": {
   "display_name": "Python 3 (ipykernel)",
   "language": "python",
   "name": "python3"
  },
  "language_info": {
   "codemirror_mode": {
    "name": "ipython",
    "version": 3
   },
   "file_extension": ".py",
   "mimetype": "text/x-python",
   "name": "python",
   "nbconvert_exporter": "python",
   "pygments_lexer": "ipython3",
   "version": "3.10.9"
  }
 },
 "nbformat": 4,
 "nbformat_minor": 5
}
